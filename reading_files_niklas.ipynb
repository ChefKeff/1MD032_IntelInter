{
 "cells": [
  {
   "cell_type": "markdown",
   "id": "49a70865",
   "metadata": {},
   "source": [
    "Now I will try reading some files :-) Hopefully all goes well! "
   ]
  },
  {
   "cell_type": "code",
   "execution_count": 3,
   "id": "2c3cbec9",
   "metadata": {},
   "outputs": [],
   "source": [
    "import cv2\n",
    "import numpy as np\n",
    "from ipywebrtc import CameraStream, VideoRecorder\n",
    "import imageio as iio\n",
    "from numpy.lib.stride_tricks import as_strided\n",
    "import matplotlib.pyplot as plt\n",
    "from zipfile import ZipFile\n",
    "import pandas as pd"
   ]
  },
  {
   "cell_type": "code",
   "execution_count": 4,
   "id": "08ef084d",
   "metadata": {},
   "outputs": [],
   "source": [
    "gestures = [\n",
    "    \"ASL_letter_A\",\n",
    "    \"ASL_letter_B\",\n",
    "    \"ASL_letter_C\",\n",
    "    \"ASL_letter_L\",\n",
    "    \"ASL_letter_R\",\n",
    "    \"ASL_letter_U\",\n",
    "]"
   ]
  },
  {
   "cell_type": "code",
   "execution_count": 7,
   "id": "89dd99c3",
   "metadata": {},
   "outputs": [
    {
     "name": "stdout",
     "output_type": "stream",
     "text": [
      "<class 'list'>\n",
      "<class 'list'>\n",
      "<class 'list'>\n",
      "<class 'list'>\n",
      "<class 'list'>\n",
      "<class 'list'>\n"
     ]
    }
   ],
   "source": [
    "for condition in gestures:\n",
    "    with iio.imopen(f\"{condition}_annotated.mp4\", \"r\", format=\"ffmpeg\") as video_in:\n",
    "        frames = video_in.read() # The frames are on type \"list\"\n",
    "        \n",
    "        # do some stuff with the frames"
   ]
  },
  {
   "cell_type": "code",
   "execution_count": null,
   "id": "4bc17f07",
   "metadata": {},
   "outputs": [],
   "source": []
  }
 ],
 "metadata": {
  "kernelspec": {
   "display_name": "Python 3 (ipykernel)",
   "language": "python",
   "name": "python3"
  },
  "language_info": {
   "codemirror_mode": {
    "name": "ipython",
    "version": 3
   },
   "file_extension": ".py",
   "mimetype": "text/x-python",
   "name": "python",
   "nbconvert_exporter": "python",
   "pygments_lexer": "ipython3",
   "version": "3.8.10"
  }
 },
 "nbformat": 4,
 "nbformat_minor": 5
}
