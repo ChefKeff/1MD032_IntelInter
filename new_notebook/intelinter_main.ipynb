{
  "cells": [
    {
      "cell_type": "markdown",
      "metadata": {
        "id": "Yu4Ry5rDvtIj"
      },
      "source": [
        "##Mount Drive"
      ],
      "id": "Yu4Ry5rDvtIj"
    },
    {
      "cell_type": "code",
      "execution_count": null,
      "metadata": {
        "colab": {
          "base_uri": "https://localhost:8080/"
        },
        "id": "5IcSwrBP7qV3",
        "outputId": "966042f0-5812-4d57-de87-0cee2e071bf6"
      },
      "outputs": [
        {
          "output_type": "stream",
          "name": "stdout",
          "text": [
            "Mounted at /content/drive\n"
          ]
        }
      ],
      "source": [
        "from google.colab import drive\n",
        "drive.mount('/content/drive', force_remount=True)\n",
        "\n",
        "my_path = './'\n"
      ],
      "id": "5IcSwrBP7qV3"
    },
    {
      "cell_type": "markdown",
      "metadata": {
        "id": "hnzWlVbkG-EY"
      },
      "source": [
        "##Imports"
      ],
      "id": "hnzWlVbkG-EY"
    },
    {
      "cell_type": "code",
      "execution_count": null,
      "metadata": {
        "id": "f0a166ab"
      },
      "outputs": [],
      "source": [
        "import cv2\n",
        "import numpy as np\n",
        "import imageio as iio\n",
        "import random\n",
        "import pandas as pd\n",
        "import os\n",
        "import tensorflow as tf\n",
        "import keras\n",
        "import math\n",
        "import matplotlib.pyplot as plt\n",
        "from PIL import Image, ImageEnhance, ImageDraw\n",
        "from keras.models import Sequential, Model\n",
        "from keras.layers import Dense, Flatten, Conv2D, MaxPooling2D, Conv2DTranspose, concatenate, Dropout\n",
        "from keras.utils.np_utils import to_categorical\n",
        "from google.colab.patches import cv2_imshow"
      ],
      "id": "f0a166ab"
    },
    {
      "cell_type": "markdown",
      "metadata": {
        "id": "wrkTTDWjvx3v"
      },
      "source": [
        "##Pre-processing Data"
      ],
      "id": "wrkTTDWjvx3v"
    },
    {
      "cell_type": "code",
      "execution_count": null,
      "metadata": {
        "id": "3c345608"
      },
      "outputs": [],
      "source": [
        "gestures = [\"ASL_letter_A\", \"ASL_letter_B\", \"ASL_letter_C\",\n",
        "            \"ASL_letter_L\", \"ASL_letter_R\", \"ASL_letter_U\"]\n",
        "\n",
        "joints = [\"root\",\n",
        "          \"thumb_1\", \"thumb_2\", \"thumb_3\",\n",
        "          \"index_1\", \"index_2\", \"index_3\", \"index_4\",\n",
        "          \"middle_1\", \"middle_2\", \"middle_3\", \"middle_4\",\n",
        "          \"ring_1\", \"ring_2\", \"ring_3\", \"ring_4\",\n",
        "          \"pinky_1\", \"pinky_2\", \"pinky_3\", \"pinky_4\"]\n",
        "\n",
        "ASL_letter_A = pd.read_csv(my_path + \"final_project_dataset_v0/ASL_letter_A/annotations.csv\")\n",
        "ASL_letter_B = pd.read_csv(my_path + \"final_project_dataset_v0/ASL_letter_B/annotations.csv\")\n",
        "ASL_letter_C = pd.read_csv(my_path + \"final_project_dataset_v0/ASL_letter_C/annotations.csv\")\n",
        "ASL_letter_L = pd.read_csv(my_path + \"final_project_dataset_v0/ASL_letter_L/annotations.csv\")\n",
        "ASL_letter_R = pd.read_csv(my_path + \"final_project_dataset_v0/ASL_letter_R/annotations.csv\")\n",
        "ASL_letter_U = pd.read_csv(my_path + \"final_project_dataset_v0/ASL_letter_U/annotations.csv\") \n",
        "\n",
        "ASL_list = [ASL_letter_A, ASL_letter_B, ASL_letter_C,\n",
        "            ASL_letter_L, ASL_letter_R, ASL_letter_U]"
      ],
      "id": "3c345608"
    },
    {
      "cell_type": "markdown",
      "metadata": {
        "id": "Ui2pRCchVQYQ"
      },
      "source": [
        "### Generera Train-set och Test set (oslumpad)"
      ],
      "id": "Ui2pRCchVQYQ"
    },
    {
      "cell_type": "code",
      "execution_count": null,
      "metadata": {
        "id": "CDaOGTdmLe1E"
      },
      "outputs": [],
      "source": [
        "def generate_train_set_2(videos_per_gesture=-1, train_size=0.7):\n",
        "  train_set = []\n",
        "  test_set = []\n",
        "  # For each gesture\n",
        "  for condition in gestures:\n",
        "    # Get all videos\n",
        "    v_path = my_path + f\"final_project_dataset_v0/{condition}/videos/\"\n",
        "    files = [f for f in os.listdir(v_path) if os.path.isfile(os.path.join(v_path, f))]\n",
        "\n",
        "    if (videos_per_gesture == -1):\n",
        "      temp_l = len(files)\n",
        "      a = round(temp_l * train_size)\n",
        "      b = temp_l - a\n",
        "    else:\n",
        "      a = round(videos_per_gesture * train_size)\n",
        "      b = videos_per_gesture - a\n",
        "    train_or_test = \"train\"\n",
        "    for f in files:\n",
        "      f_path = v_path + f\n",
        "      video_in = iio.get_reader(f_path)\n",
        "      f_ind = int(f.split('_')[1].split('.')[0])\n",
        "\n",
        "      if (a > 0):\n",
        "        train_or_test = \"train\"\n",
        "        a -= 1\n",
        "      elif (b > 0):\n",
        "        train_or_test = \"test\"\n",
        "        b -= 1\n",
        "      else:\n",
        "        break\n",
        "\n",
        "      for i, frame in enumerate(video_in):\n",
        "        frame_rsz_bw = Image.fromarray(frame).resize((160,120)).convert('L')\n",
        "        enhancer = ImageEnhance.Contrast(frame_rsz_bw)\n",
        "        enhanced_frame = np.array(enhancer.enhance(4.0))\n",
        "        #enhanced_frame = np.array(frame_rsz_bw)\n",
        "\n",
        "        if (train_or_test == \"train\"):\n",
        "          train_set.append({\n",
        "            \"frame_data\": enhanced_frame,\n",
        "            \"condition\": condition,\n",
        "            \"frame_number\": i,\n",
        "            \"video_index\": f_ind\n",
        "          })\n",
        "        elif (train_or_test == \"test\"):\n",
        "          train_set.append({\n",
        "            \"frame_data\": enhanced_frame,\n",
        "            \"condition\": condition,\n",
        "            \"frame_number\": i,\n",
        "            \"video_index\": f_ind\n",
        "          })\n",
        "  # Return sets        \n",
        "  #rand_train_set = sorted(train_set, key=lambda k: random.random())\n",
        "  #rand_test_set = sorted(test_set, key=lambda k: random.random())\n",
        "  #return np.array(rand_train_set), np.array(rand_test_set)\n",
        "  return np.array(train_set), np.array(test_set)\n",
        "\n",
        "train_set, test_set = generate_train_set_2(2)"
      ],
      "id": "CDaOGTdmLe1E"
    },
    {
      "cell_type": "markdown",
      "source": [
        "## X_train"
      ],
      "metadata": {
        "id": "CBYe0JAHRfdh"
      },
      "id": "CBYe0JAHRfdh"
    },
    {
      "cell_type": "code",
      "source": [
        "def get_x_train(x):\n",
        "  train_set_arr = []\n",
        "  for pos in x:\n",
        "    image = pos['frame_data']\n",
        "    \n",
        "    # Rescale the pixel values (between 0 and 255) to the [0, 1] interval: \"Neural networks prefer to deal with small input values.\" \n",
        "    image = image.astype('float32')\n",
        "    image /= 255\n",
        "    train_set_arr.append(image)\n",
        "  return np.array(train_set_arr)\n",
        "\n",
        "x_train = get_x_train(train_set)\n",
        "x_test = get_x_train(test_set)"
      ],
      "metadata": {
        "id": "yL0Eaz4ERdj4"
      },
      "id": "yL0Eaz4ERdj4",
      "execution_count": null,
      "outputs": []
    },
    {
      "cell_type": "markdown",
      "metadata": {
        "id": "rNTCHr_-Ixq0"
      },
      "source": [
        "##Y_train"
      ],
      "id": "rNTCHr_-Ixq0"
    },
    {
      "cell_type": "markdown",
      "source": [
        "###Skapa 160x120-matris med joints definierade"
      ],
      "metadata": {
        "id": "O278-z8iSIQK"
      },
      "id": "O278-z8iSIQK"
    },
    {
      "cell_type": "code",
      "source": [
        "def dist(pointa, pointb, rad): \n",
        "  if(getdist(pointa, pointb) < rad):\n",
        "    return True\n",
        "  else:\n",
        "    return False\n",
        "\n",
        "def getdist(point_a, point_b):\n",
        "  return round(math.sqrt(abs((point_a[0]-point_b[0])**2+(point_a[1]-point_b[1])**2)))"
      ],
      "metadata": {
        "id": "xBYJpofEtTey"
      },
      "id": "xBYJpofEtTey",
      "execution_count": null,
      "outputs": []
    },
    {
      "cell_type": "code",
      "source": [
        "# We expect an ordered train_set, meaning that\n",
        "# frames of the same video appear in order\n",
        "def create_matrix(train_set):\n",
        "  mask_array = np.zeros([120,160])\n",
        "  all_frames = []\n",
        "  rad = 5\n",
        "  old_video_index = -1\n",
        "  old_ASL_file = -1\n",
        "\n",
        "  # Timekeeping\n",
        "  i = 0\n",
        "  percent = 0\n",
        "  goalie = len(train_set)\n",
        "\n",
        "  for pos in train_set:\n",
        "    i += 1\n",
        "    if (i >= goalie/20):\n",
        "      i = 0\n",
        "      percent += 5\n",
        "      print(percent, \"%\")\n",
        "\n",
        "    frame = pos['frame_number']\n",
        "    video_index = pos['video_index']\n",
        "    csv_subset = 0\n",
        "    ASL_file = ASL_list[gestures.index(pos['condition'])]\n",
        "    if (video_index != old_video_index or video_index != old_ASL_file):\n",
        "      csv_subset = ASL_file[ASL_file[\"video_idx\"] == video_index]\n",
        "    \n",
        "    frame_csv = csv_subset[csv_subset[\"frame\"] == frame]\n",
        "    # Go through each joint\n",
        "    for joint in joints:\n",
        "      if pos['condition'] in gestures:\n",
        "        #entry = ASL_file.query(f'frame == \"{frame}\" & joint == \"{joint}\" & video_idx == \"{video_index}\"')\n",
        "        entry = frame_csv[frame_csv[\"joint\"] == joint]\n",
        "      if len(entry['joint'].values) > 0:\n",
        "        x = entry['x'].values[0]\n",
        "        y = entry['y'].values[0]\n",
        "        if (x > 0.0) and (y > 0.0):\n",
        "          mask_array[int(round(x/4)), int(round(y/4))] = joints.index(entry['joint'].values[0]) + 1\n",
        "          #if entry['joint'].values[0] in joints:\n",
        "          #  for ix in range(160):\n",
        "          #    for iy in range(120):\n",
        "          #      if dist([x,y], [ix,iy], rad):\n",
        "          #        df[iy][ix] = joints.index(entry['joint'].values[0]) + 1\n",
        "          #  df[int(round(y/4))][int(round(x/4))] = joints.index(entry['joint'].values[0]) + 1\n",
        "    mask_categorical = to_categorical(y = mask_array, num_classes=21)\n",
        "    all_frames.append(mask_categorical)\n",
        "    df = np.zeros([120,160])\n",
        "  return np.array(all_frames)\n",
        "\n",
        "y_train = create_matrix(train_set)\n",
        "y_test = create_matrix(test_set)"
      ],
      "metadata": {
        "id": "kiDEWooWdEMA",
        "colab": {
          "base_uri": "https://localhost:8080/"
        },
        "outputId": "4ba1020f-4f70-4152-c4c3-c47182d00fd1"
      },
      "id": "kiDEWooWdEMA",
      "execution_count": null,
      "outputs": [
        {
          "output_type": "stream",
          "name": "stdout",
          "text": [
            "5 %\n",
            "10 %\n",
            "15 %\n",
            "20 %\n",
            "25 %\n",
            "30 %\n",
            "35 %\n",
            "40 %\n",
            "45 %\n",
            "50 %\n",
            "55 %\n",
            "60 %\n",
            "65 %\n",
            "70 %\n",
            "75 %\n",
            "80 %\n",
            "85 %\n",
            "90 %\n",
            "95 %\n"
          ]
        }
      ]
    },
    {
      "cell_type": "code",
      "source": [
        "#print(y_train.shape)\n",
        "\n",
        "#with np.printoptions(threshold=np.inf):\n",
        "#    print(y_train[0])"
      ],
      "metadata": {
        "id": "whN73eYge3hu"
      },
      "id": "whN73eYge3hu",
      "execution_count": null,
      "outputs": []
    },
    {
      "cell_type": "markdown",
      "metadata": {
        "id": "Wc5rEw1fKTww"
      },
      "source": [
        "##Save"
      ],
      "id": "Wc5rEw1fKTww"
    },
    {
      "cell_type": "code",
      "execution_count": null,
      "metadata": {
        "id": "UQA9YTgCKGI4"
      },
      "outputs": [],
      "source": [
        "x_train.tofile(my_path + 'x_train.dat')\n",
        "x_test.tofile(my_path + 'x_train.dat')\n",
        "y_train.tofile(my_path + 'y_train.dat')\n",
        "y_test.tofile(my_path + 'y_test.dat')"
      ],
      "id": "UQA9YTgCKGI4"
    },
    {
      "cell_type": "markdown",
      "metadata": {
        "id": "kCku7dOjKVRo"
      },
      "source": [
        "##Load"
      ],
      "id": "kCku7dOjKVRo"
    },
    {
      "cell_type": "code",
      "execution_count": null,
      "metadata": {
        "id": "35DnnKYfKYLk"
      },
      "outputs": [],
      "source": [
        "x_train2 = np.fromfile(my_path + 'x_train.dat', dtype='float64')\n",
        "x_test2 = np.fromfile(my_path + 'x_train.dat', dtype='float64')\n",
        "y_train2 = np.fromfile(my_path + 'y_train.dat', dtype='float64')\n",
        "y_test2 = np.fromfile(my_path + 'y_test.dat', dtype='float64')"
      ],
      "id": "35DnnKYfKYLk"
    },
    {
      "cell_type": "markdown",
      "source": [
        "##Visualizing"
      ],
      "metadata": {
        "id": "NOhGXgf3Frgk"
      },
      "id": "NOhGXgf3Frgk"
    },
    {
      "cell_type": "code",
      "source": [
        "array = np.array(x_train[0])\n",
        "array *= 255\n",
        "temp = Image.fromarray(array)\n",
        "temp = temp.convert('RGB')\n",
        "temp.save(my_path + \"tempimg.png\")\n",
        "nasf = iio.imread(my_path + \"tempimg.png\")\n",
        "plt.imshow(nasf)\n",
        "#plt.imshow(nasf)\n",
        "# show the image, provide window name first\n",
        "#cv2.imshow('image window', image)\n",
        "# add wait key. window waits until user presses a key\n",
        "#cv2.waitKey(0)"
      ],
      "metadata": {
        "colab": {
          "base_uri": "https://localhost:8080/",
          "height": 286
        },
        "id": "8zu1fMbeILnc",
        "outputId": "ef7485dd-6da6-4303-b535-22fe0047bb97"
      },
      "id": "8zu1fMbeILnc",
      "execution_count": null,
      "outputs": [
        {
          "output_type": "execute_result",
          "data": {
            "text/plain": [
              "<matplotlib.image.AxesImage at 0x7ff081eb7ed0>"
            ]
          },
          "metadata": {},
          "execution_count": 20
        },
        {
          "output_type": "display_data",
          "data": {
            "image/png": "[encoded data removed]",
            "text/plain": [
              "<Figure size 432x288 with 1 Axes>"
            ]
          },
          "metadata": {
            "needs_background": "light"
          }
        }
      ]
    },
    {
      "cell_type": "code",
      "source": [
        "def finbild(framedata, csv):\n",
        "  bild_arr = np.array(framedata)\n",
        "  bild_arr *= 255\n",
        "  #HACK!\n",
        "  temp = Image.fromarray(array)\n",
        "  temp = temp.convert('RGB')\n",
        "  temp.save(my_path + \"tempimg.png\")\n",
        "  image = iio.imread(my_path + \"tempimg.png\")\n",
        "\n",
        "  cv2.putText(image, \"epic bacon\", (3, 10), fontFace=cv2.FONT_HERSHEY_TRIPLEX, fontScale=0.5, color=(255, 255, 255), thickness=1)\n",
        "\n",
        "  for x in range(160):\n",
        "    for y in range(120):\n",
        "      if csv[y, x] != 0:\n",
        "        cv2.circle(image, (x, y), 2, (0, 255, 255), -1)\n",
        "        cv2.circle(image, (x, y), 1, (16, 119, 175), -1)\n",
        "\n",
        "  plt.imshow(image)\n",
        "\n",
        "finbild(x_train[0], y_train[0])"
      ],
      "metadata": {
        "colab": {
          "base_uri": "https://localhost:8080/",
          "height": 332
        },
        "id": "U9jCtPlMFtac",
        "outputId": "499343d6-36ce-49ae-fe3d-1dbe9beaaf97"
      },
      "id": "U9jCtPlMFtac",
      "execution_count": null,
      "outputs": [
        {
          "output_type": "error",
          "ename": "ValueError",
          "evalue": "ignored",
          "traceback": [
            "\u001b[0;31m---------------------------------------------------------------------------\u001b[0m",
            "\u001b[0;31mValueError\u001b[0m                                Traceback (most recent call last)",
            "\u001b[0;32m<ipython-input-23-668c8c4a689a>\u001b[0m in \u001b[0;36m<module>\u001b[0;34m()\u001b[0m\n\u001b[1;32m     18\u001b[0m   \u001b[0mplt\u001b[0m\u001b[0;34m.\u001b[0m\u001b[0mimshow\u001b[0m\u001b[0;34m(\u001b[0m\u001b[0mimage\u001b[0m\u001b[0;34m)\u001b[0m\u001b[0;34m\u001b[0m\u001b[0;34m\u001b[0m\u001b[0m\n\u001b[1;32m     19\u001b[0m \u001b[0;34m\u001b[0m\u001b[0m\n\u001b[0;32m---> 20\u001b[0;31m \u001b[0mfinbild\u001b[0m\u001b[0;34m(\u001b[0m\u001b[0mx_train\u001b[0m\u001b[0;34m[\u001b[0m\u001b[0;36m0\u001b[0m\u001b[0;34m]\u001b[0m\u001b[0;34m,\u001b[0m \u001b[0my_train\u001b[0m\u001b[0;34m[\u001b[0m\u001b[0;36m0\u001b[0m\u001b[0;34m]\u001b[0m\u001b[0;34m)\u001b[0m\u001b[0;34m\u001b[0m\u001b[0;34m\u001b[0m\u001b[0m\n\u001b[0m",
            "\u001b[0;32m<ipython-input-23-668c8c4a689a>\u001b[0m in \u001b[0;36mfinbild\u001b[0;34m(framedata, csv)\u001b[0m\n\u001b[1;32m     12\u001b[0m   \u001b[0;32mfor\u001b[0m \u001b[0mx\u001b[0m \u001b[0;32min\u001b[0m \u001b[0mrange\u001b[0m\u001b[0;34m(\u001b[0m\u001b[0;36m160\u001b[0m\u001b[0;34m)\u001b[0m\u001b[0;34m:\u001b[0m\u001b[0;34m\u001b[0m\u001b[0;34m\u001b[0m\u001b[0m\n\u001b[1;32m     13\u001b[0m     \u001b[0;32mfor\u001b[0m \u001b[0my\u001b[0m \u001b[0;32min\u001b[0m \u001b[0mrange\u001b[0m\u001b[0;34m(\u001b[0m\u001b[0;36m120\u001b[0m\u001b[0;34m)\u001b[0m\u001b[0;34m:\u001b[0m\u001b[0;34m\u001b[0m\u001b[0;34m\u001b[0m\u001b[0m\n\u001b[0;32m---> 14\u001b[0;31m       \u001b[0;32mif\u001b[0m \u001b[0mcsv\u001b[0m\u001b[0;34m[\u001b[0m\u001b[0my\u001b[0m\u001b[0;34m,\u001b[0m \u001b[0mx\u001b[0m\u001b[0;34m]\u001b[0m \u001b[0;34m!=\u001b[0m \u001b[0;36m0\u001b[0m\u001b[0;34m:\u001b[0m\u001b[0;34m\u001b[0m\u001b[0;34m\u001b[0m\u001b[0m\n\u001b[0m\u001b[1;32m     15\u001b[0m         \u001b[0mcv2\u001b[0m\u001b[0;34m.\u001b[0m\u001b[0mcircle\u001b[0m\u001b[0;34m(\u001b[0m\u001b[0mimage\u001b[0m\u001b[0;34m,\u001b[0m \u001b[0;34m(\u001b[0m\u001b[0mx\u001b[0m\u001b[0;34m,\u001b[0m \u001b[0my\u001b[0m\u001b[0;34m)\u001b[0m\u001b[0;34m,\u001b[0m \u001b[0;36m2\u001b[0m\u001b[0;34m,\u001b[0m \u001b[0;34m(\u001b[0m\u001b[0;36m0\u001b[0m\u001b[0;34m,\u001b[0m \u001b[0;36m255\u001b[0m\u001b[0;34m,\u001b[0m \u001b[0;36m255\u001b[0m\u001b[0;34m)\u001b[0m\u001b[0;34m,\u001b[0m \u001b[0;34m-\u001b[0m\u001b[0;36m1\u001b[0m\u001b[0;34m)\u001b[0m\u001b[0;34m\u001b[0m\u001b[0;34m\u001b[0m\u001b[0m\n\u001b[1;32m     16\u001b[0m         \u001b[0mcv2\u001b[0m\u001b[0;34m.\u001b[0m\u001b[0mcircle\u001b[0m\u001b[0;34m(\u001b[0m\u001b[0mimage\u001b[0m\u001b[0;34m,\u001b[0m \u001b[0;34m(\u001b[0m\u001b[0mx\u001b[0m\u001b[0;34m,\u001b[0m \u001b[0my\u001b[0m\u001b[0;34m)\u001b[0m\u001b[0;34m,\u001b[0m \u001b[0;36m1\u001b[0m\u001b[0;34m,\u001b[0m \u001b[0;34m(\u001b[0m\u001b[0;36m16\u001b[0m\u001b[0;34m,\u001b[0m \u001b[0;36m119\u001b[0m\u001b[0;34m,\u001b[0m \u001b[0;36m175\u001b[0m\u001b[0;34m)\u001b[0m\u001b[0;34m,\u001b[0m \u001b[0;34m-\u001b[0m\u001b[0;36m1\u001b[0m\u001b[0;34m)\u001b[0m\u001b[0;34m\u001b[0m\u001b[0;34m\u001b[0m\u001b[0m\n",
            "\u001b[0;31mValueError\u001b[0m: The truth value of an array with more than one element is ambiguous. Use a.any() or a.all()"
          ]
        }
      ]
    },
    {
      "cell_type": "markdown",
      "metadata": {
        "id": "72a5Afoxv1nL"
      },
      "source": [
        "##Creating model"
      ],
      "id": "72a5Afoxv1nL"
    },
    {
      "cell_type": "code",
      "execution_count": null,
      "metadata": {
        "id": "O79KL8WXIK1x"
      },
      "outputs": [],
      "source": [
        "kernel_size = 3\n",
        "input_layer = tf.keras.Input(shape=(120,160,1))\n",
        "n_filters = 1\n",
        "dropout = 0.1\n",
        "\n",
        "number_of_classes = 21\n",
        "\n",
        "conv1 = Conv2D(filters = n_filters * 1, kernel_size = (kernel_size, kernel_size), activation=\"relu\", padding=\"same\")(input_layer)\n",
        "conv1 = Conv2D(filters = n_filters * 1, kernel_size = (kernel_size, kernel_size), activation=\"relu\", padding=\"same\")(conv1)\n",
        "pool1 = MaxPooling2D((2, 2))(conv1)\n",
        "pool1 = Dropout(0.25)(pool1)\n",
        "\n",
        "conv2 = Conv2D(filters = n_filters * 2, kernel_size = (kernel_size, kernel_size), activation=\"relu\", padding=\"same\")(pool1)\n",
        "conv2 = Conv2D(filters = n_filters * 2, kernel_size = (kernel_size, kernel_size), activation=\"relu\", padding=\"same\")(conv2)\n",
        "pool2 = MaxPooling2D((2, 2))(conv2)\n",
        "pool2 = Dropout(0.5)(pool2)\n",
        "\n",
        "conv3 = Conv2D(filters = n_filters * 4, kernel_size = (kernel_size, kernel_size), activation=\"relu\", padding=\"same\")(pool2)\n",
        "conv3 = Conv2D(filters = n_filters * 4, kernel_size = (kernel_size, kernel_size), activation=\"relu\", padding=\"same\")(conv3)\n",
        "pool3 = MaxPooling2D((2, 2))(conv3)\n",
        "pool3 = Dropout(0.5)(pool3)\n",
        "\n",
        "# Middle\n",
        "convm = Conv2D(filters = n_filters * 8, kernel_size = (kernel_size, kernel_size), activation=\"relu\", padding=\"same\")(pool3)\n",
        "convm = Conv2D(filters = n_filters * 8, kernel_size = (kernel_size, kernel_size), activation=\"relu\", padding=\"same\")(convm)\n",
        "\n",
        "#Decoder\n",
        "deconv3 = Conv2DTranspose(filters = n_filters * 4, kernel_size = (kernel_size, kernel_size), strides=(2, 2), padding=\"same\")(convm)\n",
        "uconv3 = concatenate([deconv3, conv3])\n",
        "uconv3 = Dropout(0.5)(uconv3)\n",
        "uconv3 = Conv2D(filters = n_filters * 4, kernel_size = (kernel_size, kernel_size), activation=\"relu\", padding=\"same\")(uconv3)\n",
        "uconv3 = Conv2D(filters = n_filters * 4, kernel_size = (kernel_size, kernel_size), activation=\"relu\", padding=\"same\")(uconv3)\n",
        "\n",
        "deconv2 = Conv2DTranspose(filters = n_filters * 2, kernel_size = (kernel_size, kernel_size), strides=(2, 2), padding=\"same\")(uconv3)\n",
        "uconv2 = concatenate([deconv2, conv2])\n",
        "uconv2 = Dropout(0.5)(uconv2)\n",
        "uconv2 = Conv2D(filters = n_filters * 2, kernel_size = (kernel_size, kernel_size), activation=\"relu\", padding=\"same\")(uconv2)\n",
        "uconv2 = Conv2D(filters = n_filters * 2, kernel_size = (kernel_size, kernel_size), activation=\"relu\", padding=\"same\")(uconv2)\n",
        "\n",
        "deconv1 = Conv2DTranspose(filters = n_filters * 1, kernel_size = (kernel_size, kernel_size), strides=(2, 2), padding=\"same\")(uconv2)\n",
        "uconv1 = concatenate([deconv1, conv1])\n",
        "uconv1 = Dropout(0.5)(uconv1)\n",
        "uconv1 = Conv2D(filters = n_filters * 1, kernel_size = (kernel_size, kernel_size), activation=\"relu\", padding=\"same\")(uconv1)\n",
        "uconv1 = Conv2D(filters = n_filters * 1, kernel_size = (kernel_size, kernel_size), activation=\"relu\", padding=\"same\")(uconv1)\n",
        "\n",
        "output_layer = Conv2D(number_of_classes, (1,1), padding=\"same\", activation=\"sigmoid\")(uconv1)\n",
        "\n",
        "model = Model(inputs=input_layer, outputs=output_layer, name = \"landmark_recognition_model\")"
      ],
      "id": "O79KL8WXIK1x"
    },
    {
      "cell_type": "markdown",
      "metadata": {
        "id": "WGIHV15Yv3k8"
      },
      "source": [
        "##Training model"
      ],
      "id": "WGIHV15Yv3k8"
    },
    {
      "cell_type": "code",
      "execution_count": null,
      "metadata": {
        "colab": {
          "base_uri": "https://localhost:8080/"
        },
        "id": "woaX75ZiM4HE",
        "outputId": "7fa7f6e6-1d70-4185-c850-5f95dfb14d16"
      },
      "outputs": [
        {
          "output_type": "stream",
          "name": "stdout",
          "text": [
            "<class 'numpy.ndarray'>\n",
            "<class 'numpy.ndarray'>\n",
            "(1103, 120, 160)\n",
            "(1103, 120, 160)\n"
          ]
        }
      ],
      "source": [
        "print(type(np.array(x_train)))\n",
        "print(type(np.array(y_train)))\n",
        "print(x_train.shape)\n",
        "print(y_train.shape)"
      ],
      "id": "woaX75ZiM4HE"
    },
    {
      "cell_type": "code",
      "execution_count": null,
      "metadata": {
        "id": "2v4UMjr0kImK"
      },
      "outputs": [],
      "source": [
        "def create_sample_weights(y_train):\n",
        "  sample_weight = np.zeros(shape=(y_train.shape))\n",
        "  sample_weight[y_train == 0] = 0\n",
        "  sample_weight[y_train == 1] = 100\n",
        "  sample_weight[y_train == 2] = 100\n",
        "  sample_weight[y_train == 3] = 100\n",
        "  sample_weight[y_train == 4] = 100\n",
        "  sample_weight[y_train == 5] = 100\n",
        "  sample_weight[y_train == 6] = 100\n",
        "  sample_weight[y_train == 7] = 100\n",
        "  sample_weight[y_train == 8] = 100\n",
        "  sample_weight[y_train == 9] = 100\n",
        "  sample_weight[y_train == 10] = 100\n",
        "  sample_weight[y_train == 11] = 100\n",
        "  sample_weight[y_train == 12] = 100\n",
        "  sample_weight[y_train == 13] = 100\n",
        "  sample_weight[y_train == 14] = 100\n",
        "  sample_weight[y_train == 15] = 100\n",
        "  sample_weight[y_train == 16] = 100\n",
        "  sample_weight[y_train == 17] = 100\n",
        "  sample_weight[y_train == 18] = 100\n",
        "  sample_weight[y_train == 19] = 100\n",
        "  sample_weight[y_train == 20] = 100\n",
        "  return tf.reduce_sum(sample_weight, axis=-1)"
      ],
      "id": "2v4UMjr0kImK"
    },
    {
      "cell_type": "markdown",
      "source": [
        "### Implement weights"
      ],
      "metadata": {
        "id": "7iONpAzTJNWc"
      },
      "id": "7iONpAzTJNWc"
    },
    {
      "cell_type": "code",
      "source": [
        "import keras.losses \n",
        "import keras.backend as K\n",
        "\n",
        "weights = [0.01, 1, 1, 1, 1, 1, 1, 1, 1, 1, 1, 1, 1, 1, 1, 1, 1, 1, 1, 1]\n",
        "\n",
        "def weightedLoss(originalLossFunc, weightsList):\n",
        "\n",
        "    def lossFunc(true, pred):\n",
        "\n",
        "        axis = -1 #if channels last \n",
        "        #axis=  1 #if channels first\n",
        "\n",
        "\n",
        "        #argmax returns the index of the element with the greatest value\n",
        "        #done in the class axis, it returns the class index    \n",
        "        classSelectors = K.argmax(true, axis=axis) \n",
        "            #if your loss is sparse, use only true as classSelectors\n",
        "\n",
        "        #considering weights are ordered by class, for each class\n",
        "        #true(1) if the class index is equal to the weight index   \n",
        "        classSelectors = [K.equal(i, classSelectors) for i in range(len(weightsList))]\n",
        "\n",
        "        #casting boolean to float for calculations  \n",
        "        #each tensor in the list contains 1 where ground true class is equal to its index \n",
        "        #if you sum all these, you will get a tensor full of ones. \n",
        "        classSelectors = [K.cast(x, K.floatx(64)) for x in classSelectors]\n",
        "\n",
        "        #for each of the selections above, multiply their respective weight\n",
        "        weights = [sel * w for sel,w in zip(classSelectors, weightsList)] \n",
        "\n",
        "        #sums all the selections\n",
        "        #result is a tensor with the respective weight for each element in predictions\n",
        "        weightMultiplier = weights[0]\n",
        "        for i in range(1, len(weights)):\n",
        "            weightMultiplier = weightMultiplier + weights[i]\n",
        "\n",
        "\n",
        "        #make sure your originalLossFunc only collapses the class axis\n",
        "        #you need the other axes intact to multiply the weights tensor\n",
        "        loss = originalLossFunc(true, tf.cast(pred, tf.int32)) \n",
        "        loss = loss * weightMultiplier\n",
        "\n",
        "        return loss\n",
        "    return lossFunc"
      ],
      "metadata": {
        "id": "uVZk2yDNJML-"
      },
      "id": "uVZk2yDNJML-",
      "execution_count": null,
      "outputs": []
    },
    {
      "cell_type": "code",
      "execution_count": null,
      "metadata": {
        "id": "-GBJ69DUkgih"
      },
      "outputs": [],
      "source": [
        "model.compile(optimizer='adam', \n",
        "              #loss=weightedLoss(keras.losses.categorical_crossentropy, weights), \n",
        "              loss = 'categorical_crossentropy',\n",
        "              metrics=['accuracy',\n",
        "                        keras.metrics.MeanIoU(num_classes=21),\n",
        "                        keras.metrics.CategoricalCrossentropy()\n",
        "                        #tf.keras.metrics.FalsePositives(), \n",
        "                        #tf.keras.metrics.FalseNegatives()\n",
        "                       ]\n",
        "              )\n",
        "model.summary()"
      ],
      "id": "-GBJ69DUkgih"
    },
    {
      "cell_type": "code",
      "execution_count": null,
      "metadata": {
        "id": "9c394d0a"
      },
      "outputs": [],
      "source": [
        "history = model.fit(x_train, y_train, epochs=10, batch_size=10, validation_data=(x_test, y_test))\n",
        "\n",
        "plt.plot(history.history[\"loss\"])\n",
        "plt.title(\"Training Loss\")\n",
        "plt.ylabel(\"loss\")\n",
        "plt.xlabel(\"epoch\")\n",
        "plt.show()\n",
        "\n",
        "plt.plot(history.history[\"accuracy\"])\n",
        "plt.title(\"Training Accuracy\")\n",
        "plt.ylabel(\"accuracy\")\n",
        "plt.xlabel(\"epoch\")\n",
        "plt.show()"
      ],
      "id": "9c394d0a"
    },
    {
      "cell_type": "code",
      "source": [
        "history_dict = history.history\n",
        "print(history_dict.keys())\n",
        "\n",
        "plt.figure(1)\n",
        "# summarize history for accuracy\n",
        "\n",
        "plt.subplot(211)\n",
        "plt.plot(history.history['accuracy'])\n",
        "plt.plot(history.history['val_accuracy'])\n",
        "plt.title('Model Accuracy')\n",
        "plt.ylabel('Accuracy')\n",
        "plt.xlabel('Epoch')\n",
        "plt.legend(['Training', 'Validation'], loc='lower right')\n",
        "\n",
        "# summarize history for loss\n",
        "\n",
        "plt.subplot(212)\n",
        "plt.plot(history.history['loss'])\n",
        "plt.plot(history.history['val_loss'])\n",
        "plt.title('Model Loss')\n",
        "plt.ylabel('Loss')\n",
        "plt.xlabel('Epoch')\n",
        "plt.legend(['Training', 'Validation'], loc='upper right')\n",
        "\n",
        "plt.tight_layout()\n",
        "\n",
        "plt.show()\n",
        "\n",
        "#plt.plot(history.history[keras.metrics.MeanIoU(num_classes=21)])\n",
        "#plt.title(\"Mean IoU\")\n",
        "#plt.ylabel(\"MeanIoU\")\n",
        "#plt.xlabel(\"epoch\")\n",
        "#plt.show()"
      ],
      "metadata": {
        "colab": {
          "base_uri": "https://localhost:8080/",
          "height": 390
        },
        "id": "CcHK8ywccf8z",
        "outputId": "3cc3ef62-4648-4456-8a16-f381d4aeab66"
      },
      "id": "CcHK8ywccf8z",
      "execution_count": null,
      "outputs": [
        {
          "output_type": "stream",
          "name": "stdout",
          "text": [
            "dict_keys(['loss', 'accuracy', 'mean_io_u_1', 'categorical_crossentropy'])\n"
          ]
        },
        {
          "output_type": "error",
          "ename": "KeyError",
          "evalue": "ignored",
          "traceback": [
            "\u001b[0;31m---------------------------------------------------------------------------\u001b[0m",
            "\u001b[0;31mKeyError\u001b[0m                                  Traceback (most recent call last)",
            "\u001b[0;32m<ipython-input-33-6d73d238ca5c>\u001b[0m in \u001b[0;36m<module>\u001b[0;34m()\u001b[0m\n\u001b[1;32m      7\u001b[0m \u001b[0mplt\u001b[0m\u001b[0;34m.\u001b[0m\u001b[0msubplot\u001b[0m\u001b[0;34m(\u001b[0m\u001b[0;36m211\u001b[0m\u001b[0;34m)\u001b[0m\u001b[0;34m\u001b[0m\u001b[0;34m\u001b[0m\u001b[0m\n\u001b[1;32m      8\u001b[0m \u001b[0mplt\u001b[0m\u001b[0;34m.\u001b[0m\u001b[0mplot\u001b[0m\u001b[0;34m(\u001b[0m\u001b[0mhistory\u001b[0m\u001b[0;34m.\u001b[0m\u001b[0mhistory\u001b[0m\u001b[0;34m[\u001b[0m\u001b[0;34m'accuracy'\u001b[0m\u001b[0;34m]\u001b[0m\u001b[0;34m)\u001b[0m\u001b[0;34m\u001b[0m\u001b[0;34m\u001b[0m\u001b[0m\n\u001b[0;32m----> 9\u001b[0;31m \u001b[0mplt\u001b[0m\u001b[0;34m.\u001b[0m\u001b[0mplot\u001b[0m\u001b[0;34m(\u001b[0m\u001b[0mhistory\u001b[0m\u001b[0;34m.\u001b[0m\u001b[0mhistory\u001b[0m\u001b[0;34m[\u001b[0m\u001b[0;34m'val_accuracy'\u001b[0m\u001b[0;34m]\u001b[0m\u001b[0;34m)\u001b[0m\u001b[0;34m\u001b[0m\u001b[0;34m\u001b[0m\u001b[0m\n\u001b[0m\u001b[1;32m     10\u001b[0m \u001b[0mplt\u001b[0m\u001b[0;34m.\u001b[0m\u001b[0mtitle\u001b[0m\u001b[0;34m(\u001b[0m\u001b[0;34m'Model Accuracy'\u001b[0m\u001b[0;34m)\u001b[0m\u001b[0;34m\u001b[0m\u001b[0;34m\u001b[0m\u001b[0m\n\u001b[1;32m     11\u001b[0m \u001b[0mplt\u001b[0m\u001b[0;34m.\u001b[0m\u001b[0mylabel\u001b[0m\u001b[0;34m(\u001b[0m\u001b[0;34m'Accuracy'\u001b[0m\u001b[0;34m)\u001b[0m\u001b[0;34m\u001b[0m\u001b[0;34m\u001b[0m\u001b[0m\n",
            "\u001b[0;31mKeyError\u001b[0m: 'val_accuracy'"
          ]
        },
        {
          "output_type": "display_data",
          "data": {
            "image/png": "[encoded data removed]",
            "text/plain": [
              "<Figure size 432x288 with 1 Axes>"
            ]
          },
          "metadata": {
            "needs_background": "light"
          }
        }
      ]
    },
    {
      "cell_type": "code",
      "source": [
        "y_pred = model.predict_classes(x_test, verbose=1)\n",
        "y_pred1 = model.predict(x_test, verbose=1)"
      ],
      "metadata": {
        "colab": {
          "base_uri": "https://localhost:8080/",
          "height": 170
        },
        "id": "HwfQjgFHh3VF",
        "outputId": "fb001488-2c0f-4272-e050-bdc796157061"
      },
      "id": "HwfQjgFHh3VF",
      "execution_count": null,
      "outputs": [
        {
          "output_type": "error",
          "ename": "NameError",
          "evalue": "ignored",
          "traceback": [
            "\u001b[0;31m---------------------------------------------------------------------------\u001b[0m",
            "\u001b[0;31mNameError\u001b[0m                                 Traceback (most recent call last)",
            "\u001b[0;32m<ipython-input-2-cbeee7aa2c64>\u001b[0m in \u001b[0;36m<module>\u001b[0;34m()\u001b[0m\n\u001b[0;32m----> 1\u001b[0;31m \u001b[0mpredicted_y\u001b[0m \u001b[0;34m=\u001b[0m \u001b[0mmodel\u001b[0m\u001b[0;34m.\u001b[0m\u001b[0mpredicted_classes\u001b[0m\u001b[0;34m(\u001b[0m\u001b[0mx_test\u001b[0m\u001b[0;34m,\u001b[0m \u001b[0mverbose\u001b[0m\u001b[0;34m=\u001b[0m\u001b[0;36m1\u001b[0m\u001b[0;34m)\u001b[0m\u001b[0;34m\u001b[0m\u001b[0;34m\u001b[0m\u001b[0m\n\u001b[0m",
            "\u001b[0;31mNameError\u001b[0m: name 'model' is not defined"
          ]
        }
      ]
    },
    {
      "cell_type": "code",
      "source": [
        "import csv\n",
        "\n",
        "with open('y_labels.csv', 'w', encoding='UTF8', newline='') as f:\n",
        "    writer = csv.writer(f)\n",
        "\n",
        "    # write multiple rows\n",
        "    writer.writerows(y_test)\n",
        "\n",
        "with open('y_pred.csv', 'w', encoding='UTF8', newline='') as f:\n",
        "    writer = csv.writer(f)\n",
        "\n",
        "    # write multiple rows\n",
        "    writer.writerows(y_pred)"
      ],
      "metadata": {
        "id": "aTKxcpAG5nbM"
      },
      "id": "aTKxcpAG5nbM",
      "execution_count": null,
      "outputs": []
    },
    {
      "cell_type": "markdown",
      "metadata": {
        "id": "WPJUejNiVuSE"
      },
      "source": [
        "##Anteckningar till rapporten"
      ],
      "id": "WPJUejNiVuSE"
    },
    {
      "cell_type": "markdown",
      "metadata": {
        "id": "tn0q2hAqVxFw"
      },
      "source": [
        "Delmoment:\n",
        "Träna en model som hittar joints givet en inputbild\n",
        "\n",
        "First we simply train it on the closest pixel given the x, y coordinates.\n",
        "The accuracy of this is ?????? and one simple way to improve it is to look at a given radius of points around the given coordinates, since a joint is not on an exact point, but has an area. First we must normalize the inputs so that how close a person has their hand to the camera won't affect the training.\n",
        "\n",
        "One problem with this approach is that if we have too big of a radius, the joints might overlap - to deal with this we try to keep the radii relatively small, and for the overlapping points we tried first of all to take the closest radius, and secondly keep both in a matrix so that both answers would be accepted. The result of the first method was ?????? and the result of the second method was ??????. In the end, a radius of around ?????? gave the best accuracy."
      ],
      "id": "tn0q2hAqVxFw"
    },
    {
      "cell_type": "markdown",
      "metadata": {
        "id": "hmPIgJ3HVKP0"
      },
      "source": [
        "## Oanvänd gammal kod"
      ],
      "id": "hmPIgJ3HVKP0"
    },
    {
      "cell_type": "code",
      "execution_count": null,
      "metadata": {
        "id": "zfMAjAv-V9Id"
      },
      "outputs": [],
      "source": [
        "print(len(X_train))\n",
        "print(X_train.shape)\n",
        "print(len(y_train))\n",
        "print(y_train.shape)\n",
        "\n",
        "y_train = y_train[..., np.newaxis]\n",
        "X_train = X_train[..., np.newaxis]\n",
        "\n",
        "print(len(X_train))\n",
        "print(X_train.shape)\n",
        "print(len(y_train))\n",
        "print(y_train.shape)\n",
        "\n",
        "X_train = X_train[:, :, :, :, 0]\n",
        "y_train = y_train[:, :, :, :, 0]\n",
        "print(len(X_train))\n",
        "print(X_train.shape)\n",
        "print(len(y_train))\n",
        "print(y_train.shape)"
      ],
      "id": "zfMAjAv-V9Id"
    },
    {
      "cell_type": "code",
      "execution_count": null,
      "metadata": {
        "id": "4LOINzfVXR87"
      },
      "outputs": [],
      "source": [
        "def generate_train_set():\n",
        "    # currently only using the files starting with a \"1\" \n",
        "    train_set = []\n",
        "    for condition in gestures:\n",
        "      for v_ind in range(2):\n",
        "            video_in = iio.get_reader(my_path + f\"final_project_dataset_v0/{condition}/videos/video_{v_ind+1}.mp4\")\n",
        "\n",
        "            for i, frame in enumerate(video_in): # The frames are of type \"list\"\n",
        "                # i will be the frame number - corresponding to column c in the csv\n",
        "                # resizes and changes the contrast of the imgs\n",
        "                frame_rsz_bw = Image.fromarray(frame).resize((160,120)).convert('L')\n",
        "                enhancer = ImageEnhance.Contrast(frame_rsz_bw)\n",
        "                enhanced_frame = np.array(enhancer.enhance(4.0))\n",
        "\n",
        "                train_set.append({\n",
        "                    \"frame_data\": enhanced_frame,\n",
        "                    \"condition\": condition,\n",
        "                    \"frame_number\": i,\n",
        "                    \"video_index\": v_ind\n",
        "                })\n",
        "\n",
        "                # train set on form\n",
        "                # \"frame_data\" = the data of the frame\n",
        "                # \"condition\" = the actual letter being signed - column b\n",
        "                # \"frame_number\" = the frame number - column c\n",
        "    \n",
        "    rand_train_set = sorted(train_set, key=lambda k: random.random())\n",
        "    np_train = np.array(rand_train_set)\n",
        "    return np_train\n",
        "\n",
        "train_set = generate_train_set()\n",
        "\n"
      ],
      "id": "4LOINzfVXR87"
    },
    {
      "cell_type": "code",
      "execution_count": null,
      "metadata": {
        "id": "V7EDOkYcYbR8"
      },
      "outputs": [],
      "source": [
        "# Distance function\n",
        "\n",
        "def dist(point_a, point_b): #two points in list form\n",
        "  return math.sqrt(abs((point_a[0]-point_b[0])**2+(point_a[1]-point_b[1])**2))\n",
        "\n",
        "  #one_point = [0,-4]\n",
        "  #another_point = [-3,0]\n",
        "  #distance = dist(one_point, another_point)\n",
        "  #print(distance)"
      ],
      "id": "V7EDOkYcYbR8"
    },
    {
      "cell_type": "code",
      "execution_count": null,
      "metadata": {
        "id": "ITqDxKj54ASw"
      },
      "outputs": [],
      "source": [
        "# Skapa sorted_csv\n",
        "\n",
        "def sort_csv(train_set):\n",
        "    sorted_csv = []\n",
        "    # Ta en 10-del av datan för tillfället för att snabba på iterationerna\n",
        "    for i in range(len(train_set) // 10):\n",
        "      if train_set[i]['condition'] == 'ASL_letter_A':\n",
        "        for joint in joints:\n",
        "          frame = train_set[i]['frame_number']\n",
        "          video_index = train_set[i]['video_index']\n",
        "          sorted_csv.append(ASL_letter_A.query(f'frame == \"{frame}\" & joint == \"{joint}\" & video_idx == \"{video_index}\"'))\n",
        "\n",
        "      elif train_set[i]['condition'] == 'ASL_letter_B':\n",
        "        for joint in joints:\n",
        "          frame = train_set[i]['frame_number']\n",
        "          video_index = train_set[i]['video_index']\n",
        "          sorted_csv.append(ASL_letter_B.query(f'frame == \"{frame}\" & joint == \"{joint}\" & video_idx == \"{video_index}\"'))\n",
        "\n",
        "      elif train_set[i]['condition'] == 'ASL_letter_C':\n",
        "        for joint in joints:\n",
        "          frame = train_set[i]['frame_number']\n",
        "          video_index = train_set[i]['video_index']\n",
        "          sorted_csv.append(ASL_letter_C.query(f'frame == \"{frame}\" & joint == \"{joint}\" & video_idx == \"{video_index}\"'))\n",
        "\n",
        "      elif train_set[i]['condition'] == 'ASL_letter_L':\n",
        "        for joint in joints:\n",
        "          frame = train_set[i]['frame_number']\n",
        "          video_index = train_set[i]['video_index']\n",
        "          sorted_csv.append(ASL_letter_L.query(f'frame == \"{frame}\" & joint == \"{joint}\" & video_idx == \"{video_index}\"'))\n",
        "\n",
        "      elif train_set[i]['condition'] == 'ASL_letter_R':\n",
        "        for joint in joints:\n",
        "          frame = train_set[i]['frame_number']\n",
        "          video_index = train_set[i]['video_index']\n",
        "          sorted_csv.append(ASL_letter_R.query(f'frame == \"{frame}\" & joint == \"{joint}\" & video_idx == \"{video_index}\"'))\n",
        "\n",
        "      else:\n",
        "        for joint in joints:\n",
        "          frame = train_set[i]['frame_number']\n",
        "          video_index = train_set[i]['video_index']\n",
        "          sorted_csv.append(ASL_letter_U.query(f'frame == \"{frame}\" & joint == \"{joint}\" & video_idx == \"{video_index}\"'))\n",
        "\n",
        "    return sorted_csv\n",
        "\n",
        "sorted_csv = sort_csv(train_set)\n"
      ],
      "id": "ITqDxKj54ASw"
    },
    {
      "cell_type": "code",
      "execution_count": null,
      "metadata": {
        "id": "aOi8jQ9WqXZ6"
      },
      "outputs": [],
      "source": [
        "number_of_frames= int(len(train_set))\n",
        "#radius = 2 #detta värde sätter vi själva\n",
        "\n",
        "def create_y_train_for_frame(train_set):\n",
        "  hp = 1\n",
        "  r = 2\n",
        "  t1 = 3\n",
        "  t2 = 4\n",
        "  t3 = 5\n",
        "  i1 = 6\n",
        "  i2 = 7\n",
        "  i3 = 8\n",
        "  i4 = 9\n",
        "  m1 = 10\n",
        "  m2 = 11\n",
        "  m3 = 12\n",
        "  m4 = 13\n",
        "  r1 = 14\n",
        "  r2 = 15\n",
        "  r3 = 16\n",
        "  r4 = 17\n",
        "  p1 = 18\n",
        "  p2 = 19\n",
        "  p3 = 20\n",
        "  p4 = 21\n",
        "  y_train = np.zeros([640,480])\n",
        "  df = pd.DataFrame(y_train)\n",
        "  all_frames = []\n",
        "  \n",
        "  #for frame in annotated_frames_with_radius:\n",
        "    #if  dist(a, b) > radius\n",
        "\n",
        "  for pos in train_set:\n",
        "    frame = pos['frame_number']\n",
        "    video_index = pos['video_index']\n",
        "    for joint in joints:\n",
        "      if pos['condition'] == 'ASL_letter_A':\n",
        "        entry = ASL_letter_A.query(f'frame == \"{frame}\" & joint == \"{joint}\" & video_idx == \"{video_index}\"')\n",
        "      if pos['condition'] == 'ASL_letter_B':\n",
        "        entry = ASL_letter_B.query(f'frame == \"{frame}\" & joint == \"{joint}\" & video_idx == \"{video_index}\"')\n",
        "      if pos['condition'] == 'ASL_letter_C':\n",
        "        entry = ASL_letter_C.query(f'frame == \"{frame}\" & joint == \"{joint}\" & video_idx == \"{video_index}\"')\n",
        "      if pos['condition'] == 'ASL_letter_L':\n",
        "        entry = ASL_letter_L.query(f'frame == \"{frame}\" & joint == \"{joint}\" & video_idx == \"{video_index}\"')\n",
        "      if pos['condition'] == 'ASL_letter_R':\n",
        "        entry = ASL_letter_R.query(f'frame == \"{frame}\" & joint == \"{joint}\" & video_idx == \"{video_index}\"')\n",
        "      if pos['condition'] == 'ASL_letter_U':\n",
        "        entry = ASL_letter_U.query(f'frame == \"{frame}\" & joint == \"{joint}\" & video_idx == \"{video_index}\"')\n",
        "      if len(entry['joint'].values) > 0:\n",
        "        if int(entry['x']) != 0 and int(entry['y']) != 0:\n",
        "          if entry['joint'].values[0] == \"hand_position\":\n",
        "            df[int(entry['x'])][int(entry['y'])] = hp\n",
        "          if entry['joint'].values[0] == \"root\":\n",
        "            df[int(entry['x'])][int(entry['y'])] = r \n",
        "          if entry['joint'].values[0] == \"thumb_1\":\n",
        "            df[int(entry['x'])][int(entry['y'])] = t1\n",
        "          if entry['joint'].values[0] == \"thumb_2\":\n",
        "            df[int(entry['x'])][int(entry['y'])] = t2\n",
        "          if entry['joint'].values[0] == \"thumb_3\":\n",
        "            df[int(entry['x'])][int(entry['y'])] = t3\n",
        "          if entry['joint'].values[0] == \"index_1\":\n",
        "            df[int(entry['x'])][int(entry['y'])] = i1\n",
        "          if entry['joint'].values[0] == \"index_2\":\n",
        "            df[int(entry['x'])][int(entry['y'])] = i2\n",
        "          if entry['joint'].values[0] == \"index_3\":\n",
        "            df[int(entry['x'])][int(entry['y'])] = i3\n",
        "          if entry['joint'].values[0] == \"index_4\":\n",
        "            df[int(entry['x'])][int(entry['y'])] = i4\n",
        "          if entry['joint'].values[0] == \"middle_1\":\n",
        "            df[int(entry['x'])][int(entry['y'])] = m1\n",
        "          if entry['joint'].values[0] == \"middle_2\":\n",
        "            df[int(entry['x'])][int(entry['y'])] = m2 \n",
        "          if entry['joint'].values[0] == \"middle_3\":\n",
        "            df[int(entry['x'])][int(entry['y'])] = m3\n",
        "          if entry['joint'].values[0] == \"middle_4\":\n",
        "            df[int(entry['x'])][int(entry['y'])] = m4\n",
        "          if entry['joint'].values[0] == \"ring_1\":\n",
        "            df[int(entry['x'])][int(entry['y'])] = r1\n",
        "          if entry['joint'].values[0] == \"ring_2\":\n",
        "            df[int(entry['x'])][int(entry['y'])] = r2\n",
        "          if entry['joint'].values[0] == \"ring_3\":\n",
        "            df[int(entry['x'])][int(entry['y'])] = r3\n",
        "          if entry['joint'].values[0] == \"ring_4\":\n",
        "            df[int(entry['x'])][int(entry['y'])] = r4\n",
        "          if entry['joint'].values[0] == \"pinky_1\":\n",
        "            df[int(entry['x'])][int(entry['y'])] = p1\n",
        "          if entry['joint'].values[0] == \"pinky_2\":\n",
        "            df[int(entry['x'])][int(entry['y'])] = p2\n",
        "          if entry['joint'].values[0] == \"pinky_3\":\n",
        "            df[int(entry['x'])][int(entry['y'])] = p3\n",
        "          if entry['joint'].values[0] == \"pinky_4\":\n",
        "            df[int(entry['x'])][int(entry['y'])] = p4\n",
        "    \n",
        "    all_frames.append(df.to_numpy())\n",
        "  return all_frames\n",
        "\n",
        "\n",
        "y_train = create_y_train_for_frame(train_set)\n",
        "y_train_np = np.array(y_train)"
      ],
      "id": "aOi8jQ9WqXZ6"
    }
  ],
  "metadata": {
    "accelerator": "GPU",
    "colab": {
      "collapsed_sections": [],
      "name": "intelinter_main",
      "provenance": []
    },
    "kernelspec": {
      "display_name": "Python 3 (ipykernel)",
      "language": "python",
      "name": "python3"
    },
    "language_info": {
      "codemirror_mode": {
        "name": "ipython",
        "version": 3
      },
      "file_extension": ".py",
      "mimetype": "text/x-python",
      "name": "python",
      "nbconvert_exporter": "python",
      "pygments_lexer": "ipython3",
      "version": "3.8.10"
    }
  },
  "nbformat": 4,
  "nbformat_minor": 5
}
